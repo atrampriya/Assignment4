{
 "cells": [
  {
   "cell_type": "code",
   "execution_count": 1,
   "id": "cd851770",
   "metadata": {},
   "outputs": [
    {
     "name": "stdout",
     "output_type": "stream",
     "text": [
      "Enter the length of list: 4\n",
      "Enter required numbers:\n",
      "4\n",
      "5\n",
      "2\n",
      "9\n",
      "[16, 25, 4, 81]\n"
     ]
    }
   ],
   "source": [
    "lst = []\n",
    "num = int(input(\"Enter the length of list: \"))\n",
    "print(\"Enter required numbers:\")\n",
    "for i in range(num):\n",
    "    number = int(input())\n",
    "    lst.append(number)\n",
    "def square(para):\n",
    "    return para**2\n",
    "z = list(map(square,lst))\n",
    "print(z)"
   ]
  }
 ],
 "metadata": {
  "kernelspec": {
   "display_name": "Python 3 (ipykernel)",
   "language": "python",
   "name": "python3"
  },
  "language_info": {
   "codemirror_mode": {
    "name": "ipython",
    "version": 3
   },
   "file_extension": ".py",
   "mimetype": "text/x-python",
   "name": "python",
   "nbconvert_exporter": "python",
   "pygments_lexer": "ipython3",
   "version": "3.10.2"
  }
 },
 "nbformat": 4,
 "nbformat_minor": 5
}
