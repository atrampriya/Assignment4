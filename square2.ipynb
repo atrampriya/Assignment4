{
 "cells": [
  {
   "cell_type": "code",
   "execution_count": 5,
   "id": "c8decab6",
   "metadata": {},
   "outputs": [
    {
     "name": "stdout",
     "output_type": "stream",
     "text": [
      "Enter length of list:4\n",
      "Enter required elements:\n",
      "4\n",
      "5\n",
      "2\n",
      "9\n",
      "[16, 25, 4, 81]\n"
     ]
    }
   ],
   "source": [
    "lst = []\n",
    "num = int(input(\"Enter length of list:\"))\n",
    "print(\"Enter required elements:\")\n",
    "for i in range(num):\n",
    "    data = int(input())\n",
    "    lst.append(data)\n",
    "x = list(map(lambda a: a**2,lst))\n",
    "print(x)"
   ]
  }
 ],
 "metadata": {
  "kernelspec": {
   "display_name": "Python 3 (ipykernel)",
   "language": "python",
   "name": "python3"
  },
  "language_info": {
   "codemirror_mode": {
    "name": "ipython",
    "version": 3
   },
   "file_extension": ".py",
   "mimetype": "text/x-python",
   "name": "python",
   "nbconvert_exporter": "python",
   "pygments_lexer": "ipython3",
   "version": "3.10.2"
  }
 },
 "nbformat": 4,
 "nbformat_minor": 5
}
